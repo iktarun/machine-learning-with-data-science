{
 "cells": [
  {
   "cell_type": "code",
   "execution_count": 1,
   "id": "0a6f7071",
   "metadata": {},
   "outputs": [],
   "source": [
    "import numpy as np"
   ]
  },
  {
   "cell_type": "markdown",
   "id": "6974a1b5",
   "metadata": {},
   "source": [
    "# Important Functions to remember\n",
    "\n",
    "https://levelup.gitconnected.com/50-numpy-functions-you-really-needed-for-data-science-fa09e8eb0cf0\""
   ]
  },
  {
   "cell_type": "code",
   "execution_count": 8,
   "id": "eaad258c",
   "metadata": {},
   "outputs": [
    {
     "data": {
      "text/plain": [
       "array([0, 0])"
      ]
     },
     "execution_count": 8,
     "metadata": {},
     "output_type": "execute_result"
    }
   ],
   "source": [
    "np.empty(2,dtype='int' ,order='C')"
   ]
  },
  {
   "cell_type": "code",
   "execution_count": 20,
   "id": "01500138",
   "metadata": {},
   "outputs": [],
   "source": [
    "ar = np.eye(3,3, order='F')"
   ]
  },
  {
   "cell_type": "code",
   "execution_count": 24,
   "id": "643bf383",
   "metadata": {},
   "outputs": [
    {
     "data": {
      "text/plain": [
       "1.0"
      ]
     },
     "execution_count": 24,
     "metadata": {},
     "output_type": "execute_result"
    }
   ],
   "source": [
    "ar[0][0]"
   ]
  },
  {
   "cell_type": "code",
   "execution_count": 28,
   "id": "14107375",
   "metadata": {},
   "outputs": [
    {
     "data": {
      "text/plain": [
       "array([[1., 1., 1., 1., 1.],\n",
       "       [1., 1., 1., 1., 1.],\n",
       "       [1., 1., 1., 1., 1.],\n",
       "       [1., 1., 1., 1., 1.],\n",
       "       [1., 1., 1., 1., 1.]])"
      ]
     },
     "execution_count": 28,
     "metadata": {},
     "output_type": "execute_result"
    }
   ],
   "source": [
    "np.ones((5, 5))"
   ]
  },
  {
   "cell_type": "code",
   "execution_count": 33,
   "id": "b32684c6",
   "metadata": {},
   "outputs": [
    {
     "data": {
      "text/plain": [
       "array([1. , 1.2, 1.4, 1.6, 1.8, 2. , 2.2, 2.4, 2.6, 2.8, 3. , 3.2, 3.4,\n",
       "       3.6, 3.8, 4. , 4.2, 4.4, 4.6, 4.8, 5. , 5.2, 5.4, 5.6, 5.8, 6. ,\n",
       "       6.2, 6.4, 6.6, 6.8, 7. , 7.2, 7.4, 7.6, 7.8, 8. , 8.2, 8.4, 8.6,\n",
       "       8.8, 9. , 9.2, 9.4, 9.6, 9.8])"
      ]
     },
     "execution_count": 33,
     "metadata": {},
     "output_type": "execute_result"
    }
   ],
   "source": [
    "np.arange(1, 10, .2)"
   ]
  },
  {
   "cell_type": "code",
   "execution_count": 36,
   "id": "28d440ad",
   "metadata": {},
   "outputs": [
    {
     "data": {
      "text/plain": [
       "array([2.        , 2.05263158, 2.10526316, 2.15789474, 2.21052632,\n",
       "       2.26315789, 2.31578947, 2.36842105, 2.42105263, 2.47368421,\n",
       "       2.52631579, 2.57894737, 2.63157895, 2.68421053, 2.73684211,\n",
       "       2.78947368, 2.84210526, 2.89473684, 2.94736842, 3.        ])"
      ]
     },
     "execution_count": 36,
     "metadata": {},
     "output_type": "execute_result"
    }
   ],
   "source": [
    "np.linspace(2.0, 3.0, num=20)"
   ]
  },
  {
   "cell_type": "code",
   "execution_count": 38,
   "id": "05ec4962",
   "metadata": {},
   "outputs": [
    {
     "data": {
      "text/plain": [
       "(3, 3)"
      ]
     },
     "execution_count": 38,
     "metadata": {},
     "output_type": "execute_result"
    }
   ],
   "source": [
    "np.shape(ar)"
   ]
  },
  {
   "cell_type": "code",
   "execution_count": 52,
   "id": "b05420bd",
   "metadata": {},
   "outputs": [
    {
     "data": {
      "text/plain": [
       "array([1, 2, 3, 4, 5, 6, 7, 8, 9])"
      ]
     },
     "execution_count": 52,
     "metadata": {},
     "output_type": "execute_result"
    }
   ],
   "source": [
    "np.sort(np.array([1,2,3,4,5,6,7,8,9]))\n"
   ]
  },
  {
   "cell_type": "code",
   "execution_count": 57,
   "id": "22c20825",
   "metadata": {},
   "outputs": [
    {
     "data": {
      "text/plain": [
       "1"
      ]
     },
     "execution_count": 57,
     "metadata": {},
     "output_type": "execute_result"
    }
   ],
   "source": [
    "ar=np.array([1,2,3,4,5,6,7,8,9])\n",
    "np.ndim(ar)"
   ]
  },
  {
   "cell_type": "code",
   "execution_count": 58,
   "id": "5d50bddf",
   "metadata": {},
   "outputs": [
    {
     "data": {
      "text/plain": [
       "array([0, 1, 1, 2, 2, 2, 4, 4, 4], dtype=int64)"
      ]
     },
     "execution_count": 58,
     "metadata": {},
     "output_type": "execute_result"
    }
   ],
   "source": [
    "##17. Digitize\n",
    "\n",
    "a = np.array([-0.9, 0.5, 0.9, 1, 1.2, 1.4, 3.6, 4.7, 5.3])\n",
    "bins = np.array([0,1,2,3])\n",
    "np.digitize(a,bins)"
   ]
  },
  {
   "cell_type": "code",
   "execution_count": 59,
   "id": "b99ba7bc",
   "metadata": {},
   "outputs": [],
   "source": [
    "a = np.array([[2, 4, 6], [4, 8, 12]])"
   ]
  },
  {
   "cell_type": "code",
   "execution_count": 60,
   "id": "978b0eb9",
   "metadata": {},
   "outputs": [
    {
     "data": {
      "text/plain": [
       "array([[ 2,  4,  6],\n",
       "       [ 4,  8, 12]])"
      ]
     },
     "execution_count": 60,
     "metadata": {},
     "output_type": "execute_result"
    }
   ],
   "source": [
    "a"
   ]
  },
  {
   "cell_type": "code",
   "execution_count": 63,
   "id": "d8f0eee3",
   "metadata": {},
   "outputs": [
    {
     "data": {
      "text/plain": [
       "array([1., 2., 3.])"
      ]
     },
     "execution_count": 63,
     "metadata": {},
     "output_type": "execute_result"
    }
   ],
   "source": [
    "np.std(a, axis=0)"
   ]
  },
  {
   "cell_type": "code",
   "execution_count": null,
   "id": "71e37809",
   "metadata": {},
   "outputs": [],
   "source": []
  }
 ],
 "metadata": {
  "kernelspec": {
   "display_name": "Python 3 (ipykernel)",
   "language": "python",
   "name": "python3"
  },
  "language_info": {
   "codemirror_mode": {
    "name": "ipython",
    "version": 3
   },
   "file_extension": ".py",
   "mimetype": "text/x-python",
   "name": "python",
   "nbconvert_exporter": "python",
   "pygments_lexer": "ipython3",
   "version": "3.9.12"
  }
 },
 "nbformat": 4,
 "nbformat_minor": 5
}
