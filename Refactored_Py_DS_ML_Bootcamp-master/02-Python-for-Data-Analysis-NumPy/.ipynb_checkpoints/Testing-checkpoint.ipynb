{
 "cells": [
  {
   "cell_type": "code",
   "execution_count": 1,
   "id": "e258f880",
   "metadata": {},
   "outputs": [],
   "source": [
    "import numpy as np"
   ]
  },
  {
   "cell_type": "markdown",
   "id": "bb6363b2",
   "metadata": {},
   "source": [
    "https://levelup.gitconnected.com/50-numpy-functions-you-really-needed-for-data-science-fa09e8eb0cf0\""
   ]
  },
  {
   "cell_type": "code",
   "execution_count": 8,
   "id": "c004e2fc",
   "metadata": {},
   "outputs": [
    {
     "data": {
      "text/plain": [
       "array([0, 0])"
      ]
     },
     "execution_count": 8,
     "metadata": {},
     "output_type": "execute_result"
    }
   ],
   "source": [
    "np.empty(2,dtype='int' ,order='C')"
   ]
  },
  {
   "cell_type": "code",
   "execution_count": 20,
   "id": "636e38ec",
   "metadata": {},
   "outputs": [],
   "source": [
    "ar = np.eye(3,3, order='F')"
   ]
  },
  {
   "cell_type": "code",
   "execution_count": 24,
   "id": "7b2f62e8",
   "metadata": {},
   "outputs": [
    {
     "data": {
      "text/plain": [
       "1.0"
      ]
     },
     "execution_count": 24,
     "metadata": {},
     "output_type": "execute_result"
    }
   ],
   "source": [
    "ar[0][0]"
   ]
  },
  {
   "cell_type": "code",
   "execution_count": 28,
   "id": "470585bc",
   "metadata": {},
   "outputs": [
    {
     "data": {
      "text/plain": [
       "array([[1., 1., 1., 1., 1.],\n",
       "       [1., 1., 1., 1., 1.],\n",
       "       [1., 1., 1., 1., 1.],\n",
       "       [1., 1., 1., 1., 1.],\n",
       "       [1., 1., 1., 1., 1.]])"
      ]
     },
     "execution_count": 28,
     "metadata": {},
     "output_type": "execute_result"
    }
   ],
   "source": [
    "np.ones((5, 5))"
   ]
  },
  {
   "cell_type": "code",
   "execution_count": 33,
   "id": "a08fa2ff",
   "metadata": {},
   "outputs": [
    {
     "data": {
      "text/plain": [
       "array([1. , 1.2, 1.4, 1.6, 1.8, 2. , 2.2, 2.4, 2.6, 2.8, 3. , 3.2, 3.4,\n",
       "       3.6, 3.8, 4. , 4.2, 4.4, 4.6, 4.8, 5. , 5.2, 5.4, 5.6, 5.8, 6. ,\n",
       "       6.2, 6.4, 6.6, 6.8, 7. , 7.2, 7.4, 7.6, 7.8, 8. , 8.2, 8.4, 8.6,\n",
       "       8.8, 9. , 9.2, 9.4, 9.6, 9.8])"
      ]
     },
     "execution_count": 33,
     "metadata": {},
     "output_type": "execute_result"
    }
   ],
   "source": [
    "np.arange(1, 10, .2)"
   ]
  },
  {
   "cell_type": "code",
   "execution_count": 36,
   "id": "f3b4ce8c",
   "metadata": {},
   "outputs": [
    {
     "data": {
      "text/plain": [
       "array([2.        , 2.05263158, 2.10526316, 2.15789474, 2.21052632,\n",
       "       2.26315789, 2.31578947, 2.36842105, 2.42105263, 2.47368421,\n",
       "       2.52631579, 2.57894737, 2.63157895, 2.68421053, 2.73684211,\n",
       "       2.78947368, 2.84210526, 2.89473684, 2.94736842, 3.        ])"
      ]
     },
     "execution_count": 36,
     "metadata": {},
     "output_type": "execute_result"
    }
   ],
   "source": [
    "np.linspace(2.0, 3.0, num=20)"
   ]
  },
  {
   "cell_type": "code",
   "execution_count": 38,
   "id": "e0ca6d4b",
   "metadata": {},
   "outputs": [
    {
     "data": {
      "text/plain": [
       "(3, 3)"
      ]
     },
     "execution_count": 38,
     "metadata": {},
     "output_type": "execute_result"
    }
   ],
   "source": [
    "np.shape(ar)"
   ]
  },
  {
   "cell_type": "code",
   "execution_count": 52,
   "id": "e3c87661",
   "metadata": {},
   "outputs": [
    {
     "data": {
      "text/plain": [
       "array([1, 2, 3, 4, 5, 6, 7, 8, 9])"
      ]
     },
     "execution_count": 52,
     "metadata": {},
     "output_type": "execute_result"
    }
   ],
   "source": [
    "np.sort(np.array([1,2,3,4,5,6,7,8,9]))\n"
   ]
  },
  {
   "cell_type": "code",
   "execution_count": 57,
   "id": "3dddcb10",
   "metadata": {},
   "outputs": [
    {
     "data": {
      "text/plain": [
       "1"
      ]
     },
     "execution_count": 57,
     "metadata": {},
     "output_type": "execute_result"
    }
   ],
   "source": [
    "ar=np.array([1,2,3,4,5,6,7,8,9])\n",
    "np.ndim(ar)"
   ]
  },
  {
   "cell_type": "code",
   "execution_count": null,
   "id": "9d0f27b7",
   "metadata": {},
   "outputs": [],
   "source": []
  }
 ],
 "metadata": {
  "kernelspec": {
   "display_name": "Python 3 (ipykernel)",
   "language": "python",
   "name": "python3"
  },
  "language_info": {
   "codemirror_mode": {
    "name": "ipython",
    "version": 3
   },
   "file_extension": ".py",
   "mimetype": "text/x-python",
   "name": "python",
   "nbconvert_exporter": "python",
   "pygments_lexer": "ipython3",
   "version": "3.9.12"
  }
 },
 "nbformat": 4,
 "nbformat_minor": 5
}
